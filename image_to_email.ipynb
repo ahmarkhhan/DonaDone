{
  "nbformat": 4,
  "nbformat_minor": 0,
  "metadata": {
    "colab": {
      "provenance": [],
      "authorship_tag": "ABX9TyMkXRoLIDxtzoIzuFynFIMv",
      "include_colab_link": true
    },
    "kernelspec": {
      "name": "python3",
      "display_name": "Python 3"
    },
    "language_info": {
      "name": "python"
    }
  },
  "cells": [
    {
      "cell_type": "markdown",
      "metadata": {
        "id": "view-in-github",
        "colab_type": "text"
      },
      "source": [
        "<a href=\"https://colab.research.google.com/github/ahmarkhhan/tasksAutomation/blob/main/image_to_email.ipynb\" target=\"_parent\"><img src=\"https://colab.research.google.com/assets/colab-badge.svg\" alt=\"Open In Colab\"/></a>"
      ]
    },
    {
      "cell_type": "markdown",
      "source": [
        "** Installing Necessary Libraries**\n",
        "\n",
        "1.   opencv-python-headless: A lite version of the OpenCV package\n",
        "2.   pytesseract: A Python binding for Google's Tesseract-OCR Engine, which is used to extract text from images.\n",
        "\n"
      ],
      "metadata": {
        "id": "6hDMBlpv6GIQ"
      }
    },
    {
      "cell_type": "code",
      "execution_count": null,
      "metadata": {
        "id": "EteZOCwx4gJ1"
      },
      "outputs": [],
      "source": [
        "pip install opencv-python-headless pytesseract"
      ]
    },
    {
      "cell_type": "markdown",
      "source": [
        "The Tesseract-OCR software is necessary for the pytesseract package to function."
      ],
      "metadata": {
        "id": "p0fGASwt63hu"
      }
    },
    {
      "cell_type": "code",
      "source": [
        "!sudo apt-get install tesseract-ocr"
      ],
      "metadata": {
        "colab": {
          "base_uri": "https://localhost:8080/"
        },
        "id": "nzblMvHQ4jDe",
        "outputId": "4063386a-32f1-4f3c-8341-5e9c54649d55"
      },
      "execution_count": null,
      "outputs": [
        {
          "output_type": "stream",
          "name": "stdout",
          "text": [
            "Reading package lists... Done\n",
            "Building dependency tree... Done\n",
            "Reading state information... Done\n",
            "tesseract-ocr is already the newest version (4.1.1-2.1build1).\n",
            "0 upgraded, 0 newly installed, 0 to remove and 16 not upgraded.\n"
          ]
        }
      ]
    },
    {
      "cell_type": "markdown",
      "source": [
        "Script to Extract Email Addresses from Image\n",
        "\n",
        "1.   Imports Necessary Libraries\n",
        "2.   Defines Function 'extract_emails_from_image'\n",
        "First, it checks if the file exists at the given path,\n",
        "Then, it opens the image and extracts text from it using OCR.\n",
        "It uses a regular expression to find email addresses in the extracted text. If an email address is broken across two lines, it attempts to join them.\n",
        "3.   Script to Call the Function and Print Results.\n",
        "\n",
        "example result:\n",
        "File name: 2.jpg\n",
        "Total emails found: 2\n",
        "Email: stancoop@gmail.com (found on line 3)\n",
        "Email: emcasarosa82@gmail.com (found on line 23)\n",
        "\n",
        "\n",
        "\n"
      ],
      "metadata": {
        "id": "x5qeDbVz7Xgg"
      }
    },
    {
      "cell_type": "code",
      "source": [
        "import pytesseract\n",
        "from PIL import Image\n",
        "import re\n",
        "import os\n",
        "import csv\n",
        "import glob\n",
        "\n",
        "def extract_emails_from_image(image_path):\n",
        "    if not os.path.exists(image_path):\n",
        "        return f\"Error: File '{image_path}' not found.\"\n",
        "\n",
        "    try:\n",
        "        image = Image.open(image_path)\n",
        "        extracted_text = pytesseract.image_to_string(image)\n",
        "\n",
        "        # This modified regular expression will be able to find emails even if they span across two lines\n",
        "        email_pattern = r'\\b[A-Za-z0-9._%+-]+@[A-Za-z0-9.-]+(?:\\.[A-Z|a-z]{2,7})?\\b'\n",
        "\n",
        "        # Detect lines and store them\n",
        "        lines = extracted_text.split('\\n')\n",
        "\n",
        "        # If email is broken into two lines, join them\n",
        "        for i in range(len(lines)-1):\n",
        "            if re.search(r'[A-Za-z0-9.-]+@$', lines[i]) and re.search(r'^\\.[A-Z|a-z]{2,7}\\b', lines[i+1]):\n",
        "                lines[i] = lines[i] + lines[i+1]\n",
        "                lines[i+1] = \"\"\n",
        "\n",
        "        # Join the corrected lines and find emails\n",
        "        corrected_text = \"\\n\".join(lines)\n",
        "        email_addresses = re.findall(email_pattern, corrected_text)\n",
        "\n",
        "        file_name = os.path.basename(image_path)\n",
        "        email_info = {\n",
        "            \"file_name\": file_name,\n",
        "            \"total_emails\": len(email_addresses),\n",
        "            \"emails\": email_addresses,\n",
        "            \"line_numbers\": []\n",
        "        }\n",
        "\n",
        "        # Finding line numbers where emails are found\n",
        "        for email in email_addresses:\n",
        "            for i, line in enumerate(lines):\n",
        "                if email in line:\n",
        "                    email_info[\"line_numbers\"].append(i+1)\n",
        "                    break\n",
        "\n",
        "        return email_info\n",
        "    except Exception as e:\n",
        "        return str(e)\n",
        "\n",
        "# Specify the directory where your files are located\n",
        "data_directory = 'data/'\n",
        "\n",
        "# Define a list of file extensions to process\n",
        "file_extensions = ['jpg', 'jpeg', 'png', 'pdf', 'doc', 'docx']\n",
        "\n",
        "# Initialize an empty list to store email information from all files\n",
        "all_email_info = []\n",
        "\n",
        "# Loop through files with the specified extensions in the 'data' directory\n",
        "for extension in file_extensions:\n",
        "    files = glob.glob(os.path.join(data_directory, f'*.{extension}'))\n",
        "    for file in files:\n",
        "        email_info = extract_emails_from_image(file)\n",
        "        if isinstance(email_info, dict):\n",
        "            all_email_info.append(email_info)\n",
        "\n",
        "# Save the emails to a CSV file\n",
        "csv_file_name = 'extracted_emails.csv'\n",
        "with open(csv_file_name, mode='w', newline='') as csv_file:\n",
        "    fieldnames = ['File Name', 'Email', 'Line Number']\n",
        "    writer = csv.DictWriter(csv_file, fieldnames=fieldnames)\n",
        "\n",
        "    writer.writeheader()\n",
        "    for email_info in all_email_info:\n",
        "        for email, line_num in zip(email_info['emails'], email_info['line_numbers']):\n",
        "            writer.writerow({'File Name': email_info['file_name'], 'Email': email, 'Line Number': line_num})\n",
        "\n",
        "print(f\"Emails saved to {csv_file_name}\")\n"
      ],
      "metadata": {
        "colab": {
          "base_uri": "https://localhost:8080/"
        },
        "id": "b3VawLob5Mbm",
        "outputId": "f4e6dc4f-94fa-459b-8b0b-cdce5615bc9b"
      },
      "execution_count": 14,
      "outputs": [
        {
          "output_type": "stream",
          "name": "stdout",
          "text": [
            "Emails saved to extracted_emails.csv\n"
          ]
        }
      ]
    }
  ]
}
{
  "nbformat": 4,
  "nbformat_minor": 0,
  "metadata": {
    "colab": {
      "provenance": [],
      "authorship_tag": "ABX9TyMrxuyQv0S4hvwk67TErffB",
      "include_colab_link": true
    },
    "kernelspec": {
      "name": "python3",
      "display_name": "Python 3"
    },
    "language_info": {
      "name": "python"
    }
  },
  "cells": [
    {
      "cell_type": "markdown",
      "metadata": {
        "id": "view-in-github",
        "colab_type": "text"
      },
      "source": [
        "<a href=\"https://colab.research.google.com/github/ahmarkhhan/tasksAutomation/blob/main/image_to_email.ipynb\" target=\"_parent\"><img src=\"https://colab.research.google.com/assets/colab-badge.svg\" alt=\"Open In Colab\"/></a>"
      ]
    },
    {
      "cell_type": "markdown",
      "source": [
        "** Installing Necessary Libraries**\n",
        "\n",
        "1.   opencv-python-headless: A lite version of the OpenCV package\n",
        "2.   pytesseract: A Python binding for Google's Tesseract-OCR Engine, which is used to extract text from images.\n",
        "\n"
      ],
      "metadata": {
        "id": "6hDMBlpv6GIQ"
      }
    },
    {
      "cell_type": "code",
      "execution_count": null,
      "metadata": {
        "id": "EteZOCwx4gJ1"
      },
      "outputs": [],
      "source": [
        "pip install opencv-python-headless pytesseract"
      ]
    },
    {
      "cell_type": "markdown",
      "source": [
        "The Tesseract-OCR software is necessary for the pytesseract package to function."
      ],
      "metadata": {
        "id": "p0fGASwt63hu"
      }
    },
    {
      "cell_type": "code",
      "source": [
        "!sudo apt-get install tesseract-ocr"
      ],
      "metadata": {
        "colab": {
          "base_uri": "https://localhost:8080/"
        },
        "id": "nzblMvHQ4jDe",
        "outputId": "4063386a-32f1-4f3c-8341-5e9c54649d55"
      },
      "execution_count": null,
      "outputs": [
        {
          "output_type": "stream",
          "name": "stdout",
          "text": [
            "Reading package lists... Done\n",
            "Building dependency tree... Done\n",
            "Reading state information... Done\n",
            "tesseract-ocr is already the newest version (4.1.1-2.1build1).\n",
            "0 upgraded, 0 newly installed, 0 to remove and 16 not upgraded.\n"
          ]
        }
      ]
    },
    {
      "cell_type": "markdown",
      "source": [
        "Script to Extract Email Addresses from Image\n",
        "\n",
        "1.   Imports Necessary Libraries\n",
        "2.   Defines Function 'extract_emails_from_image'\n",
        "First, it checks if the file exists at the given path,\n",
        "Then, it opens the image and extracts text from it using OCR.\n",
        "It uses a regular expression to find email addresses in the extracted text. If an email address is broken across two lines, it attempts to join them.\n",
        "3.   Script to Call the Function and Print Results.\n",
        "\n",
        "example result:\n",
        "File name: 2.jpg\n",
        "Total emails found: 2\n",
        "Email: stancoop@gmail.com (found on line 3)\n",
        "Email: emcasarosa82@gmail.com (found on line 23)\n",
        "\n",
        "\n",
        "\n"
      ],
      "metadata": {
        "id": "x5qeDbVz7Xgg"
      }
    },
    {
      "cell_type": "code",
      "source": [
        "import pytesseract\n",
        "from PIL import Image\n",
        "import re\n",
        "import os\n",
        "\n",
        "def extract_emails_from_image(image_path):\n",
        "    if not os.path.exists(image_path):\n",
        "        return f\"Error: File '{image_path}' not found.\"\n",
        "\n",
        "    try:\n",
        "        image = Image.open(image_path)\n",
        "        extracted_text = pytesseract.image_to_string(image)\n",
        "\n",
        "        # This modified regular expression will be able to find emails even if they span across two lines\n",
        "        email_pattern = r'\\b[A-Za-z0-9._%+-]+@[A-Za-z0-9.-]+(?:\\.[A-Z|a-z]{2,7})?\\b'\n",
        "\n",
        "        # Detect lines and store them\n",
        "        lines = extracted_text.split('\\n')\n",
        "\n",
        "        # If email is broken into two lines, join them\n",
        "        for i in range(len(lines)-1):\n",
        "            if re.search(r'[A-Za-z0-9.-]+@$', lines[i]) and re.search(r'^\\.[A-Z|a-z]{2,7}\\b', lines[i+1]):\n",
        "                lines[i] = lines[i] + lines[i+1]\n",
        "                lines[i+1] = \"\"\n",
        "\n",
        "        # Join the corrected lines and find emails\n",
        "        corrected_text = \"\\n\".join(lines)\n",
        "        email_addresses = re.findall(email_pattern, corrected_text)\n",
        "\n",
        "        file_name = os.path.basename(image_path)\n",
        "        email_info = {\n",
        "            \"file_name\": file_name,\n",
        "            \"total_emails\": len(email_addresses),\n",
        "            \"emails\": email_addresses,\n",
        "            \"line_numbers\": []\n",
        "        }\n",
        "\n",
        "        # Finding line numbers where emails are found\n",
        "        for email in email_addresses:\n",
        "            for i, line in enumerate(lines):\n",
        "                if email in line:\n",
        "                    email_info[\"line_numbers\"].append(i+1)\n",
        "                    break\n",
        "\n",
        "        return email_info\n",
        "    except Exception as e:\n",
        "        return str(e)\n",
        "\n",
        "\n",
        "# Your existing code to call the function and print emails can remain unchanged\n",
        "image_path = 'sample_data/2.jpg'\n",
        "extracted_emails = extract_emails_from_image(image_path)\n",
        "\n",
        "if isinstance(extracted_emails, dict):\n",
        "    print(f\"File name: {extracted_emails['file_name']}\")\n",
        "    print(f\"Total emails found: {extracted_emails['total_emails']}\")\n",
        "    for email, line_num in zip(extracted_emails['emails'], extracted_emails['line_numbers']):\n",
        "        print(f\"Email: {email} (found on line {line_num})\")\n",
        "else:\n",
        "    print(extracted_emails)\n"
      ],
      "metadata": {
        "colab": {
          "base_uri": "https://localhost:8080/"
        },
        "id": "b3VawLob5Mbm",
        "outputId": "f7c108f3-578b-4464-99b3-7b5da444541a"
      },
      "execution_count": null,
      "outputs": [
        {
          "output_type": "stream",
          "name": "stdout",
          "text": [
            "File name: 2.jpg\n",
            "Total emails found: 2\n",
            "Email: stancoop@gmail.com (found on line 3)\n",
            "Email: emcasarosa82@gmail.com (found on line 23)\n"
          ]
        }
      ]
    }
  ]
}
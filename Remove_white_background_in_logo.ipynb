{
  "nbformat": 4,
  "nbformat_minor": 0,
  "metadata": {
    "colab": {
      "provenance": [],
      "authorship_tag": "ABX9TyMCutSxF1ivG9iuQzzbarEI",
      "include_colab_link": true
    },
    "kernelspec": {
      "name": "python3",
      "display_name": "Python 3"
    },
    "language_info": {
      "name": "python"
    }
  },
  "cells": [
    {
      "cell_type": "markdown",
      "metadata": {
        "id": "view-in-github",
        "colab_type": "text"
      },
      "source": [
        "<a href=\"https://colab.research.google.com/github/ahmarkhhan/tasksAutomation/blob/main/Remove_white_background_in_logo.ipynb\" target=\"_parent\"><img src=\"https://colab.research.google.com/assets/colab-badge.svg\" alt=\"Open In Colab\"/></a>"
      ]
    },
    {
      "cell_type": "markdown",
      "source": [
        "Remove the white background in the PNG logo files.\n",
        "first upload logo in sample_data and rename it to logo.png then run the script"
      ],
      "metadata": {
        "id": "KOwz1JlOmhMF"
      }
    },
    {
      "cell_type": "code",
      "source": [
        "from PIL import Image\n",
        "\n",
        "def remove_background(input_path, output_path, bgcolor, tolerance=60):\n",
        "    img = Image.open(input_path)\n",
        "    img = img.convert(\"RGBA\")\n",
        "\n",
        "    datas = img.getdata()\n",
        "    new_data = []\n",
        "    for item in datas:\n",
        "        # Check if the pixel color is close to the background color\n",
        "        if all([abs(item[i] - bgcolor[i]) < tolerance for i in range(3)]):\n",
        "            new_data.append((255, 255, 255, 0))  # Make it transparent\n",
        "        else:\n",
        "            new_data.append(item)\n",
        "\n",
        "    img.putdata(new_data)\n",
        "    img.save(output_path, \"PNG\")\n",
        "\n",
        "# Adjust the filename to your uploaded file's name\n",
        "input_filename = \"sample_data/logo.png\"\n",
        "output_filename = \"sample_data/logo_no_bg.png\"\n",
        "\n",
        "# Example usage\n",
        "remove_background(input_filename, output_filename, (255, 255, 255))\n"
      ],
      "metadata": {
        "id": "shdMBsAfmhbZ"
      },
      "execution_count": 1,
      "outputs": []
    }
  ]
}
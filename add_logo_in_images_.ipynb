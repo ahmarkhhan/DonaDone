{
  "nbformat": 4,
  "nbformat_minor": 0,
  "metadata": {
    "colab": {
      "provenance": [],
      "include_colab_link": true
    },
    "kernelspec": {
      "name": "python3",
      "display_name": "Python 3"
    },
    "language_info": {
      "name": "python"
    }
  },
  "cells": [
    {
      "cell_type": "markdown",
      "metadata": {
        "id": "view-in-github",
        "colab_type": "text"
      },
      "source": [
        "<a href=\"https://colab.research.google.com/github/ahmarkhhan/tasksAutomation/blob/main/add_logo_in_images_.ipynb\" target=\"_parent\"><img src=\"https://colab.research.google.com/assets/colab-badge.svg\" alt=\"Open In Colab\"/></a>"
      ]
    },
    {
      "cell_type": "markdown",
      "source": [
        "Add logo in bottom right corner of images."
      ],
      "metadata": {
        "id": "lPoTVx7al7rT"
      }
    },
    {
      "cell_type": "code",
      "source": [
        "from PIL import Image\n",
        "import os\n",
        "\n",
        "def add_logo_to_images(main_folder, logo_path, output_folder):\n",
        "    \"\"\"\n",
        "    Add a logo to every image in the main_folder and save them to output_folder.\n",
        "    \"\"\"\n",
        "    if not os.path.exists(output_folder):\n",
        "        os.makedirs(output_folder)\n",
        "\n",
        "    original_logo = Image.open(logo_path)\n",
        "\n",
        "    # Ensure the logo is in RGBA mode\n",
        "    if original_logo.mode != 'RGBA':\n",
        "        original_logo = original_logo.convert(\"RGBA\")\n",
        "\n",
        "    for filename in os.listdir(main_folder):\n",
        "        if filename.endswith(('.png', '.jpg', '.jpeg')):\n",
        "            main_img_path = os.path.join(main_folder, filename)\n",
        "\n",
        "            try:\n",
        "                main = Image.open(main_img_path)\n",
        "\n",
        "                # Resize the logo to 15% of the main image's width while maintaining its aspect ratio\n",
        "                desired_width = int(main.width * 0.30)\n",
        "                logo_height = int((original_logo.height / original_logo.width) * desired_width)\n",
        "                resized_logo = original_logo.resize((desired_width, logo_height))\n",
        "\n",
        "                # Position the resized logo at bottom-right with a margin of 35 pixels\n",
        "                position = (main.width - resized_logo.width - 35, main.height - resized_logo.height - 35)\n",
        "\n",
        "                # Use the alpha channel of the resized logo as the mask\n",
        "                mask = resized_logo.split()[3]\n",
        "                main.paste(resized_logo, position, mask)\n",
        "\n",
        "                main.save(os.path.join(output_folder, filename))\n",
        "                print(f\"Processed: {filename}\")\n",
        "\n",
        "            except Exception as e:\n",
        "                print(f\"Error processing {filename}. Error: {e}\")\n",
        "\n",
        "if __name__ == '__main__':\n",
        "    main_folder = 'sample_data/data/'\n",
        "    logo_path = 'sample_data/logo.png'\n",
        "    output_folder = 'sample_data/data_with_logo/'\n",
        "\n",
        "    add_logo_to_images(main_folder, logo_path, output_folder)\n"
      ],
      "metadata": {
        "id": "IxMPUasel-wq"
      },
      "execution_count": null,
      "outputs": []
    },
    {
      "cell_type": "markdown",
      "source": [],
      "metadata": {
        "id": "anrvlXK8l4cY"
      }
    },
    {
      "cell_type": "code",
      "source": [
        "import shutil\n",
        "\n",
        "def create_zip_and_download(output_folder, zip_filename):\n",
        "    \"\"\"\n",
        "    Create a zip file containing all files in the output_folder and provide a download link.\n",
        "    \"\"\"\n",
        "    shutil.make_archive(zip_filename, 'zip', output_folder)\n",
        "    print(f\"Zip file created: {zip_filename}.zip\")\n",
        "\n",
        "# Define your output folder and desired zip filename\n",
        "output_folder = 'sample_data/data_with_logo/'\n",
        "zip_filename = 'output_images'\n",
        "\n",
        "# Create the zip archive\n",
        "create_zip_and_download(output_folder, zip_filename)\n"
      ],
      "metadata": {
        "id": "vdE9tCrtj8Sx"
      },
      "execution_count": 6,
      "outputs": []
    }
  ]
}